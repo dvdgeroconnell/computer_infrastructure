{
 "cells": [
  {
   "cell_type": "markdown",
   "metadata": {},
   "source": [
    "# Weather Analysis\n",
    "\n",
    "****"
   ]
  },
  {
   "cell_type": "markdown",
   "metadata": {},
   "source": [
    "| Topic | Details |\n",
    "|---------|-------------|\n",
    "| **Module:**  | 8645 - Computer Infrastructure  |\n",
    "| **Lecturer:**  | Ian McLoughlin  | \n",
    "| **Course:**  | Higher Diploma in Science in Computing (Data Analytics)  |\n",
    "| **Year/Semester:**  | Year 1 / Semester 2  |\n",
    "| **Author:**  | David O'Connell  |\n",
    "| **Student ID:**  | G00438912  |\n",
    "| **Student Email:**  | G00438912@atu.ie  |  \n",
    "   \n",
    "****"
   ]
  },
  {
   "cell_type": "markdown",
   "metadata": {},
   "source": [
    "# Tasks 1 - 8\n",
    "This section details the steps taken to complete tasks 1-7 of the Computer Infrastructure assessment.  \n",
    "The tasks are laid out in the Assessment section of the module README [here](https://github.com/ianmcloughlin/2425_computer_infrastructure).\n",
    "Short descriptions of the commands used in each task and their role in completing the tasks is provided."
   ]
  },
  {
   "cell_type": "markdown",
   "metadata": {},
   "source": [
    "## Task 1\n",
    "### Problem Statement\n",
    "Using the command line, create a directory (that is, a folder) named data at the root of your repository. Inside data, create two subdirectories: timestamps and weather.  \n",
    "\n",
    "### Commands (in Codespace)\n",
    "*Create the* data *directory:*   \n",
    "@dvdgeroconnell ➜ /workspaces/computer_infrastructure (main) **$ mkdir data**   \n",
    "   \n",
    "*Create the* timestamps *subdirectory:*   \n",
    "@dvdgeroconnell ➜ /workspaces/computer_infrastructure (main) **$ mkdir data/timestamps**   \n",
    "  \n",
    "*Create the* weather *subdirectory:*   \n",
    "@dvdgeroconnell ➜ /workspaces/computer_infrastructure (main) $ **mkdir data/weather**     \n",
    "\n",
    "### Notes\n",
    "A *git push* did not result in /data/weather being pushed to Github repo, because it is empty."
   ]
  },
  {
   "cell_type": "markdown",
   "metadata": {},
   "source": [
    "## Task 2\n",
    "### Problem Statement\n",
    "Navigate to the data/timestamps directory. Use the date command to output the current date and time, appending the output to a file named *now.txt*. Make sure to use the >> operator to append (not overwrite) the file. Repeat this step ten times, then use the more command to verify that *now.txt* has the expected content.   \n",
    "\n",
    "### Commands (in Codespace)\n",
    "*Change directory:*  \n",
    "@dvdgeroconnell ➜ /workspaces/computer_infrastructure (main) $ **cd data/timestamps**  \n",
    "\n",
    "*To run once:*  \n",
    "@dvdgeroconnell ➜ /workspaces/computer_infrastructure/data/timestamps (main) $ **date >> now.txt**  \n",
    "\n",
    "*To run 10 times:*  \n",
    "@dvdgeroconnell ➜ /workspaces/computer_infrastructure/data/timestamps (main) $ **for i in {1..10}**  \n",
    "    **> do**  \n",
    "    **> date >> now.txt**  \n",
    "    **> done**  "
   ]
  },
  {
   "cell_type": "markdown",
   "metadata": {},
   "source": [
    "## Task 3\n",
    "### Problem Statement\n",
    "Run the date command again, but this time format the output using YYYYmmdd_HHMMSS (for example, 20261114_130003 for 1:00:03 PM on November 14, 2026). Refer to the date man page (using man date) for more formatting options. Append the formatted output to a file named *formatted.txt*.  \n",
    "  \n",
    "### Commands (in Codespace)  \n",
    "*List format options for date command*  \n",
    "@dvdgeroconnell ➜ /workspaces/computer_infrastructure/data/timestamps (main) $ **man date**  \n",
    "   \n",
    "*Output date and time as YYYYmmdd_HHMMSS*  \n",
    "@dvdgeroconnell ➜ /workspaces/computer_infrastructure/data/timestamps (main) $ **date +%Y%m%d_%H%M%S**  \n",
    "Output: 20241017_192135  \n",
    "  \n",
    "*Output date and time as YYYYmmdd_HHMMSS to formatted.txt*  \n",
    "@dvdgeroconnell ➜ /workspaces/computer_infrastructure/data/timestamps (main) $ **date +%Y%m%d_%H%M%S >> formatted.txt**  \n",
    "  \n",
    "### Notes  \n",
    "The *'>> filename'* part of the command appends to an existing file or creates a new one if it doesn't already exist. Using *'>'* instead of *'>>'* appends to an existing file instead of replacing.  "
   ]
  },
  {
   "cell_type": "markdown",
   "metadata": {},
   "source": [
    "## Task 4  \n",
    "### Problem Statement  \n",
    "Use the touch command to create an empty file with a name in the *YYYYmmdd_HHMMSS.txt* format, by embedding the date command in backticks ` into the touch command.  \n",
    "Redirection (>>) should no longer be used in this step.  \n",
    "  \n",
    "### Commands (in Codespace)  \n",
    "*Create an empty file with the name in the YYYYmmdd_HHMMSS.txt format*  \n",
    "@dvdgeroconnell ➜ /workspaces/computer_infrastructure/data/timestamps (main) $ **touch \\`date +\"%Y%m%d_%H%M%S.txt\"\\`**  \n",
    "  \n",
    "### Notes  \n",
    "The backtick has a special meaning. Everything contained between backticks is executed first, and the output of that execution is used by the main command.  "
   ]
  },
  {
   "cell_type": "markdown",
   "metadata": {},
   "source": [
    "## Task 5  \n",
    "### Problem Statement  \n",
    "Change to the data/weather directory. Download the latest weather data for the Athenry weather station from Met Eireann using wget. Use the -O <filename> option to save the file as *weather.json*. The data can be found at this URL: https://prodapi.metweb.ie/observations/athenry/today.  \n",
    "\n",
    "### Commands (in Codespace)  \n",
    "*Change to the* /weather/data *directory*   \n",
    "@dvdgeroconnell ➜ /workspaces/computer_infrastructure (main) $ **cd data/weather**  \n",
    "  \n",
    "*and download the latest weather data...*  \n",
    "@dvdgeroconnell ➜ /workspaces/computer_infrastructure/data/weather (main) $ **wget -O \"weather.json\" https://prodapi.metweb.ie/observations/athenry/today**    \n",
    "  \n",
    "### Notes  \n",
    "The *'-O'* option writes the retrieved content to the provided filename (in double quotes)."
   ]
  },
  {
   "cell_type": "markdown",
   "metadata": {},
   "source": [
    "## Task 6  \n",
    "### Problem Statement  \n",
    "Modify the command from Task 5 to save the downloaded file with a timestamped name in the format *YYYYmmdd_HHMMSS.json*.  \n",
    "  \n",
    "### Commands (in Codespace)  \n",
    "*Save the downloaded file with a timestamped name in the format* YYYYmmdd_HHMMSS.json.  \n",
    "@dvdgeroconnell ➜ /workspaces/computer_infrastructure/data/weather (main) $ **wget -O \\`date +\"%Y%m%d_%H%M%S.json\"\\` https://prodapi.metweb.ie/observations/athenry/today**  \n",
    "  \n",
    "### Notes\n",
    "The *'date'* command prints out the system date and time in the specified format. In this case, it is passed to the *'wget -O'* command as the filename.  "
   ]
  },
  {
   "cell_type": "markdown",
   "metadata": {},
   "source": [
    "## Task 7\n",
    "### Problem Statement  \n",
    "Write a bash script called *weather.sh* in the root of the repository. This script should automate the process from Task 6, saving the weather data to the *data/weather* directory.\n",
    "\n",
    "*Write a bash script called* weather.sh.  \n",
    "@dvdgeroconnell ➜ /workspaces/computer_infrastructure (main) $ **more weather.sh**  \n",
    "\n",
    "*Make the script executable...*  \n",
    "@dvdgeroconnell ➜ /workspaces/computer_infrastructure (main) $ **chmod u+x weather.sh**  \n",
    "  \n",
    "*Check it is executable*  \n",
    "@dvdgeroconnell ➜ /workspaces/computer_infrastructure (main) $ **ls -l weather.sh**  \n",
    "-rwxrw-rw- 1 codespace codespace 467 Nov 20 17:23 weather.sh   \n",
    "\n",
    "*... and run it. Note that the weather station is provided as a command line argument.*   \n",
    "  @dvdgeroconnell ➜ /workspaces/computer_infrastructure (main) $ **./ weather.sh athenry**  "
   ]
  },
  {
   "cell_type": "markdown",
   "metadata": {},
   "source": [
    "## Task 8\n",
    "### Problem Statement  \n",
    "Create a notebook called weather.ipynb at the root of the repository. In this notebook, write a brief report explaining how Tasks 1 to 7 were completed. Provide short descriptions of the commands used in each task and explain their role in completing the tasks.  \n",
    "\n",
    "### Solution\n",
    "See Task 1 - Task 7 above."
   ]
  },
  {
   "cell_type": "markdown",
   "metadata": {},
   "source": [
    "# Task 9 - Analysing the Data\n",
    "### Problem Statement\n",
    "In your weather.ipynb notebook, use the pandas function read_json() to load in any one of the weather data files you have downloaded with your script. Examine and summarize the data. Use the information provided data.gov.ie to write a short explanation of what the data set contains."
   ]
  },
  {
   "cell_type": "code",
   "execution_count": 51,
   "metadata": {},
   "outputs": [],
   "source": [
    "# Data frames\n",
    "import pandas as pd"
   ]
  },
  {
   "cell_type": "code",
   "execution_count": null,
   "metadata": {},
   "outputs": [
    {
     "data": {
      "text/plain": [
       "(22, 15)"
      ]
     },
     "execution_count": 52,
     "metadata": {},
     "output_type": "execute_result"
    }
   ],
   "source": [
    "# Read the data and show the first few rows\n",
    "station_data = pd.read_json('data/weather/20241108_215150_claremorris.json')\n",
    "station_data.shape\n"
   ]
  },
  {
   "cell_type": "code",
   "execution_count": null,
   "metadata": {},
   "outputs": [
    {
     "data": {
      "text/html": [
       "<div>\n",
       "<style scoped>\n",
       "    .dataframe tbody tr th:only-of-type {\n",
       "        vertical-align: middle;\n",
       "    }\n",
       "\n",
       "    .dataframe tbody tr th {\n",
       "        vertical-align: top;\n",
       "    }\n",
       "\n",
       "    .dataframe thead th {\n",
       "        text-align: right;\n",
       "    }\n",
       "</style>\n",
       "<table border=\"1\" class=\"dataframe\">\n",
       "  <thead>\n",
       "    <tr style=\"text-align: right;\">\n",
       "      <th></th>\n",
       "      <th>name</th>\n",
       "      <th>temperature</th>\n",
       "      <th>symbol</th>\n",
       "      <th>weatherDescription</th>\n",
       "      <th>text</th>\n",
       "      <th>windSpeed</th>\n",
       "      <th>windGust</th>\n",
       "      <th>cardinalWindDirection</th>\n",
       "      <th>windDirection</th>\n",
       "      <th>humidity</th>\n",
       "      <th>rainfall</th>\n",
       "      <th>pressure</th>\n",
       "      <th>dayName</th>\n",
       "      <th>date</th>\n",
       "      <th>reportTime</th>\n",
       "    </tr>\n",
       "  </thead>\n",
       "  <tbody>\n",
       "    <tr>\n",
       "      <th>0</th>\n",
       "      <td>Claremorris</td>\n",
       "      <td>13</td>\n",
       "      <td></td>\n",
       "      <td>N/A</td>\n",
       "      <td></td>\n",
       "      <td>17</td>\n",
       "      <td>-</td>\n",
       "      <td>SE</td>\n",
       "      <td>135</td>\n",
       "      <td>88</td>\n",
       "      <td>0</td>\n",
       "      <td>1022</td>\n",
       "      <td>Friday</td>\n",
       "      <td>2024-08-11</td>\n",
       "      <td>00:00</td>\n",
       "    </tr>\n",
       "    <tr>\n",
       "      <th>1</th>\n",
       "      <td>Claremorris</td>\n",
       "      <td>12</td>\n",
       "      <td></td>\n",
       "      <td>N/A</td>\n",
       "      <td></td>\n",
       "      <td>19</td>\n",
       "      <td>-</td>\n",
       "      <td>SE</td>\n",
       "      <td>135</td>\n",
       "      <td>89</td>\n",
       "      <td>0</td>\n",
       "      <td>1021</td>\n",
       "      <td>Friday</td>\n",
       "      <td>2024-08-11</td>\n",
       "      <td>01:00</td>\n",
       "    </tr>\n",
       "    <tr>\n",
       "      <th>2</th>\n",
       "      <td>Claremorris</td>\n",
       "      <td>12</td>\n",
       "      <td></td>\n",
       "      <td>N/A</td>\n",
       "      <td></td>\n",
       "      <td>17</td>\n",
       "      <td>-</td>\n",
       "      <td>SE</td>\n",
       "      <td>135</td>\n",
       "      <td>89</td>\n",
       "      <td>0</td>\n",
       "      <td>1021</td>\n",
       "      <td>Friday</td>\n",
       "      <td>2024-08-11</td>\n",
       "      <td>02:00</td>\n",
       "    </tr>\n",
       "  </tbody>\n",
       "</table>\n",
       "</div>"
      ],
      "text/plain": [
       "          name  temperature symbol weatherDescription text  windSpeed  \\\n",
       "0  Claremorris           13                       N/A              17   \n",
       "1  Claremorris           12                       N/A              19   \n",
       "2  Claremorris           12                       N/A              17   \n",
       "\n",
       "  windGust cardinalWindDirection  windDirection  humidity  rainfall  pressure  \\\n",
       "0        -                    SE            135        88         0      1022   \n",
       "1        -                    SE            135        89         0      1021   \n",
       "2        -                    SE            135        89         0      1021   \n",
       "\n",
       "  dayName       date reportTime  \n",
       "0  Friday 2024-08-11      00:00  \n",
       "1  Friday 2024-08-11      01:00  \n",
       "2  Friday 2024-08-11      02:00  "
      ]
     },
     "execution_count": 57,
     "metadata": {},
     "output_type": "execute_result"
    }
   ],
   "source": [
    "# Display the first few fields.\n",
    "station_data.head(3)"
   ]
  },
  {
   "cell_type": "code",
   "execution_count": null,
   "metadata": {},
   "outputs": [
    {
     "data": {
      "text/plain": [
       "name                             object\n",
       "temperature                       int64\n",
       "symbol                           object\n",
       "weatherDescription               object\n",
       "text                             object\n",
       "windSpeed                         int64\n",
       "windGust                         object\n",
       "cardinalWindDirection            object\n",
       "windDirection                     int64\n",
       "humidity                          int64\n",
       "rainfall                          int64\n",
       "pressure                          int64\n",
       "dayName                          object\n",
       "date                     datetime64[ns]\n",
       "reportTime                       object\n",
       "dtype: object"
      ]
     },
     "execution_count": 55,
     "metadata": {},
     "output_type": "execute_result"
    }
   ],
   "source": [
    "# Check the data types\n",
    "station_data.dtypes"
   ]
  },
  {
   "cell_type": "code",
   "execution_count": null,
   "metadata": {},
   "outputs": [
    {
     "name": "stdout",
     "output_type": "stream",
     "text": [
      "Station: Claremorris \n",
      "       temperature  windSpeed   humidity  rainfall     pressure\n",
      "min     12.000000  11.000000  84.000000       0.0  1020.000000\n",
      "max     13.000000  20.000000  90.000000       0.0  1022.000000\n",
      "mean    12.409091  16.636364  87.409091       0.0  1020.590909\n",
      "std      0.503236   2.646569   1.563241       0.0     0.590326\n"
     ]
    }
   ],
   "source": [
    "# Calculate and display some key statistics on the data fields where it is meaningful to do so.\n",
    "station_stats = station_data.agg({\"temperature\":[\"min\", \"max\", \"mean\", \"std\"],\"windSpeed\":[\"min\", \"max\", \"mean\", \"std\"],\n",
    "                                  \"humidity\":[\"min\", \"max\", \"mean\", \"std\"],\"rainfall\":[\"min\", \"max\", \"mean\", \"std\"],\n",
    "                                  \"pressure\":[\"min\", \"max\", \"mean\", \"std\"]})\n",
    "print(\"Station:\", station_data.name[0],\"\\n\",station_stats)"
   ]
  },
  {
   "cell_type": "code",
   "execution_count": null,
   "metadata": {},
   "outputs": [],
   "source": []
  },
  {
   "cell_type": "markdown",
   "metadata": {},
   "source": [
    "### Summary\n",
    "This file contains a list of weather related observations for each hour of the day at the specified weather station.  \n",
    "In this case, the data was taken from Claremorris on the 8th November and includes data from midnight to 9pm (00:00 - 21:00) on the day in question.\n",
    "\n",
    "We can see from the file that hourly measurements include the following parameters:  \n",
    "- Temperature (C)  \n",
    "- Windspeed (km/h)  \n",
    "- Wind Gust (km/h)  \n",
    "- Wind Direction  \n",
    "- Humidity (%) \n",
    "- Rainfall (mm)  \n",
    "- Pressure (mbar)  \n",
    "\n",
    "For more information, see https://data.gov.ie/dataset/todays-weather-claremorris."
   ]
  },
  {
   "cell_type": "markdown",
   "metadata": {
    "vscode": {
     "languageId": "plaintext"
    }
   },
   "source": [
    "## End  \n",
    "\n",
    "\n"
   ]
  },
  {
   "cell_type": "markdown",
   "metadata": {},
   "source": []
  }
 ],
 "metadata": {
  "kernelspec": {
   "display_name": "Python 3",
   "language": "python",
   "name": "python3"
  },
  "language_info": {
   "codemirror_mode": {
    "name": "ipython",
    "version": 3
   },
   "file_extension": ".py",
   "mimetype": "text/x-python",
   "name": "python",
   "nbconvert_exporter": "python",
   "pygments_lexer": "ipython3",
   "version": "3.12.1"
  }
 },
 "nbformat": 4,
 "nbformat_minor": 2
}
