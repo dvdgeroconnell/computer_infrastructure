{
 "cells": [
  {
   "cell_type": "markdown",
   "metadata": {},
   "source": [
    "# Weather Analysis\n",
    "\n",
    "****"
   ]
  },
  {
   "cell_type": "markdown",
   "metadata": {},
   "source": [
    "## Purpose of this Document  \n",
    "This is the GitHub repository for the tasks and project associated with the Computer Infrastructure module.   \n",
    "Link to repository - [PFDA Assignments](https://github.com/dvdgeroconnell/PFDA-assignments.git). "
   ]
  },
  {
   "cell_type": "markdown",
   "metadata": {},
   "source": [
    "| Topic | Details |\n",
    "|---------|-------------|\n",
    "| **Module:**  | 8645 - Computer Infrastructure  |\n",
    "| **Lecturer:**  | Ian McLoughlin  | \n",
    "| **Course:**  | Higher Diploma in Science in Computing (Data Analytics)  |\n",
    "| **Year/Semester:**  | Year 1 / Semester 2  |\n",
    "| **Author:**  | David O'Connell  |\n",
    "| **Student ID:**  | G00438912  |\n",
    "| **Student Email:**  | G00438912@atu.ie  |  \n",
    "   \n",
    "****"
   ]
  },
  {
   "cell_type": "markdown",
   "metadata": {},
   "source": [
    "# Tasks 1 - 8\n",
    "This section details the steps taken to complete tasks 1-7 of the Computer Infrastructure assessment.  \n",
    "The tasks are laid out in the Assessment section of the module README [here](https://github.com/ianmcloughlin/2425_computer_infrastructure).\n",
    "Short descriptions of the commands used in each task and their role in completing the tasks is provided."
   ]
  },
  {
   "cell_type": "markdown",
   "metadata": {},
   "source": [
    "## Task 1\n",
    "### Problem Statement\n",
    "Using the command line, create a directory (that is, a folder) named data at the root of your repository. Inside data, create two subdirectories: timestamps and weather.  \n",
    "\n",
    "### Commands (in Codespace)\n",
    "*Create the* data *directory:*   \n",
    "@dvdgeroconnell ➜ /workspaces/computer_infrastructure (main) **$ mkdir data**   \n",
    "   \n",
    "*Create the* timestamps *subdirectory:*   \n",
    "@dvdgeroconnell ➜ /workspaces/computer_infrastructure (main) **$ mkdir data/timestamps**   \n",
    "  \n",
    "*Create the* weather *subdirectory:*   \n",
    "@dvdgeroconnell ➜ /workspaces/computer_infrastructure (main) $ **mkdir data/weather**     \n",
    "\n",
    "### Notes\n",
    "A *git push* did not result in /data/weather being pushed to Github repo, because it is empty."
   ]
  },
  {
   "cell_type": "markdown",
   "metadata": {},
   "source": [
    "## Task 2\n",
    "### Problem Statement\n",
    "Navigate to the data/timestamps directory. Use the date command to output the current date and time, appending the output to a file named *now.txt*. Make sure to use the >> operator to append (not overwrite) the file. Repeat this step ten times, then use the more command to verify that *now.txt* has the expected content.   \n",
    "\n",
    "### Commands (in Codespace)\n",
    "*Change directory:*  \n",
    "@dvdgeroconnell ➜ /workspaces/computer_infrastructure (main) $ **cd data/timestamps**  \n",
    "\n",
    "*To run once:*  \n",
    "@dvdgeroconnell ➜ /workspaces/computer_infrastructure/data/timestamps (main) $ **date >> now.txt**  \n",
    "\n",
    "*To run 10 times:*  \n",
    "@dvdgeroconnell ➜ /workspaces/computer_infrastructure/data/timestamps (main) $ **for i in {1..10}**  \n",
    "    **> do**  \n",
    "    **> date >> now.txt**  \n",
    "    **> done**  "
   ]
  },
  {
   "cell_type": "markdown",
   "metadata": {},
   "source": [
    "## Task 3\n",
    "### Problem Statement\n",
    "Run the date command again, but this time format the output using YYYYmmdd_HHMMSS (for example, 20261114_130003 for 1:00:03 PM on November 14, 2026). Refer to the date man page (using man date) for more formatting options. Append the formatted output to a file named *formatted.txt*.  \n",
    "  \n",
    "### Commands (in Codespace)  \n",
    "*List format options for date command*  \n",
    "@dvdgeroconnell ➜ /workspaces/computer_infrastructure/data/timestamps (main) $ **man date**  \n",
    "   \n",
    "*Output date and time as YYYYmmdd_HHMMSS*  \n",
    "@dvdgeroconnell ➜ /workspaces/computer_infrastructure/data/timestamps (main) $ **date +%Y%m%d_%H%M%S**  \n",
    "Output: 20241017_192135  \n",
    "  \n",
    "*Output date and time as YYYYmmdd_HHMMSS to formatted.txt*  \n",
    "@dvdgeroconnell ➜ /workspaces/computer_infrastructure/data/timestamps (main) $ **date +%Y%m%d_%H%M%S >> formatted.txt**  \n",
    "  \n",
    "### Notes  \n",
    "The *'>> filename'* part of the command appends to an existing file or creates a new one if it doesn't already exist. Using *'>'* instead of *'>>'* appends to an existing file instead of replacing.  "
   ]
  },
  {
   "cell_type": "markdown",
   "metadata": {},
   "source": [
    "## Task 4  \n",
    "### Problem Statement  \n",
    "Use the touch command to create an empty file with a name in the *YYYYmmdd_HHMMSS.txt* format, by embedding the date command in backticks ` into the touch command.  \n",
    "Redirection (>>) should no longer be used in this step.  \n",
    "  \n",
    "### Commands (in Codespace)  \n",
    "*Create an empty file with the name in the YYYYmmdd_HHMMSS.txt format*  \n",
    "@dvdgeroconnell ➜ /workspaces/computer_infrastructure/data/timestamps (main) $ **touch \\`date +\"%Y%m%d_%H%M%S.txt\"\\`**  \n",
    "  \n",
    "### Notes  \n",
    "The backtick is a special character. Everything contained between backticks is executed first, and the output of that execution is used by the main command.  "
   ]
  },
  {
   "cell_type": "markdown",
   "metadata": {},
   "source": [
    "## Task 5  \n",
    "### Problem Statement  \n",
    "Change to the data/weather directory. Download the latest weather data for the Athenry weather station from Met Eireann using wget. Use the -O <filename> option to save the file as *weather.json*. The data can be found at this URL: https://prodapi.metweb.ie/observations/athenry/today.  \n",
    "\n",
    "### Commands (in Codespace)  \n",
    "*Change to the* /weather/data *directory*   \n",
    "@dvdgeroconnell ➜ /workspaces/computer_infrastructure (main) $ **cd data/weather**  \n",
    "  \n",
    "*and download the latest weather data for the Athenry weather station...*  \n",
    "@dvdgeroconnell ➜ /workspaces/computer_infrastructure/data/weather (main) $ **wget -O \"weather.json\" https://prodapi.metweb.ie/observations/athenry/today**    \n",
    "  \n",
    "### Notes  \n",
    "The *'-O'* option writes the retrieved content to the provided filename (in double quotes).  \n",
    "This command creates a file called 'today'. If it's run again, the next file will be called 'today.1' and so on.  "
   ]
  },
  {
   "cell_type": "markdown",
   "metadata": {},
   "source": [
    "## Task 6  \n",
    "### Problem Statement  \n",
    "Modify the command from Task 5 to save the downloaded file with a timestamped name in the format *YYYYmmdd_HHMMSS.json*.  \n",
    "  \n",
    "### Commands (in Codespace)  \n",
    "*Save the downloaded file with a timestamped name in the format* YYYYmmdd_HHMMSS.json.  \n",
    "@dvdgeroconnell ➜ /workspaces/computer_infrastructure/data/weather (main) $ **wget -O \\`date +\"%Y%m%d_%H%M%S.json\"\\` https://prodapi.metweb.ie/observations/athenry/today**  \n",
    "  \n",
    "### Notes\n",
    "The *'date'* command prints out the system date and time in the specified format. In this case, it is passed to the *'wget -O'* command as the filename.  "
   ]
  },
  {
   "cell_type": "markdown",
   "metadata": {},
   "source": [
    "## Task 7\n",
    "### Problem Statement  \n",
    "Write a bash script called *weather.sh* in the root of the repository. This script should automate the process from Task 6, saving the weather data to the *data/weather* directory.\n",
    "\n",
    "*Write a bash script called* weather.sh.  \n",
    "@dvdgeroconnell ➜ /workspaces/computer_infrastructure (main) $ **more weather.sh**  \n",
    "\n",
    "*Make the script executable...*  \n",
    "@dvdgeroconnell ➜ /workspaces/computer_infrastructure (main) $ **chmod u+x weather.sh**  \n",
    "  \n",
    "*Check it is executable*  \n",
    "@dvdgeroconnell ➜ /workspaces/computer_infrastructure (main) $ **ls -l weather.sh**  \n",
    "-rwxrw-rw- 1 codespace codespace 467 Nov 20 17:23 weather.sh   \n",
    "\n",
    "*... and run it. Note that the weather station is provided as a command line argument.*   \n",
    "  @dvdgeroconnell ➜ /workspaces/computer_infrastructure (main) $ **./weather.sh Athenry**  \n",
    "  *Weather station names with a white space are also supported...*\n",
    "  @dvdgeroconnell ➜ /workspaces/computer_infrastructure (main) $ **./weather.sh 'Sherkin Island'**  \n",
    "\n",
    "### Notes  \n",
    "The script downloads a file from the Irish Meteorological Service for the weather station provided as a command line argument for the date that the script is run. The file is named with the weather station and date of download.  \n",
    "The weather station may be any of those listed by Met Éireann [here](https://www.met.ie/climate/weather-observing-stations). The script was extended with the help of ChatGPT to support station names with white spaces, e.g. Sherkin Island. The white space is replaced with '_' in the file name.\n",
    "To run the script, type **./ weather.sh \\<weather station\\>**.  \n",
    "Surround any station name containing a white space with single quotes, for example **./weather.sh 'Sherkin Island'**.  \n"
   ]
  },
  {
   "cell_type": "markdown",
   "metadata": {},
   "source": [
    "## Task 8\n",
    "### Problem Statement  \n",
    "Create a notebook called weather.ipynb at the root of the repository. In this notebook, write a brief report explaining how Tasks 1 to 7 were completed. Provide short descriptions of the commands used in each task and explain their role in completing the tasks.  \n",
    "\n",
    "### Solution\n",
    "See Task 1 - Task 7 above."
   ]
  },
  {
   "cell_type": "markdown",
   "metadata": {},
   "source": [
    "# Task 9 - Analysing the Data\n",
    "### Problem Statement\n",
    "In your weather.ipynb notebook, use the pandas function read_json() to load in any one of the weather data files you have downloaded with your script. Examine and summarize the data. Use the information provided data.gov.ie to write a short explanation of what the data set contains."
   ]
  },
  {
   "cell_type": "code",
   "execution_count": null,
   "metadata": {},
   "outputs": [],
   "source": [
    "# Data frames\n",
    "import pandas as pd"
   ]
  },
  {
   "cell_type": "code",
   "execution_count": null,
   "metadata": {},
   "outputs": [],
   "source": [
    "# Read the data and show the first few rows\n",
    "station_data = pd.read_json('data/weather/20241108_215150_claremorris.json')\n",
    "station_data.shape\n"
   ]
  },
  {
   "cell_type": "code",
   "execution_count": null,
   "metadata": {},
   "outputs": [],
   "source": [
    "# Display the first few fields.\n",
    "station_data.head(3)"
   ]
  },
  {
   "cell_type": "code",
   "execution_count": null,
   "metadata": {},
   "outputs": [],
   "source": [
    "# Check the data types\n",
    "station_data.dtypes"
   ]
  },
  {
   "cell_type": "code",
   "execution_count": null,
   "metadata": {},
   "outputs": [],
   "source": [
    "# Calculate and display some key statistics on the data fields where it is meaningful to do so.\n",
    "station_stats = station_data.agg({\"temperature\":[\"min\", \"max\", \"mean\", \"std\"],\"windSpeed\":[\"min\", \"max\", \"mean\", \"std\"],\n",
    "                                  \"humidity\":[\"min\", \"max\", \"mean\", \"std\"],\"rainfall\":[\"min\", \"max\", \"mean\", \"std\"],\n",
    "                                  \"pressure\":[\"min\", \"max\", \"mean\", \"std\"]})\n",
    "print(\"Station:\", station_data.name[0],\"\\n\",station_stats)"
   ]
  },
  {
   "cell_type": "code",
   "execution_count": null,
   "metadata": {},
   "outputs": [],
   "source": []
  },
  {
   "cell_type": "markdown",
   "metadata": {},
   "source": [
    "### Summary\n",
    "This file contains a list of weather related observations for each hour of the day at the specified weather station.  \n",
    "In this case, the data was taken from Claremorris on the 8th November and includes data from midnight to 9pm (00:00 - 21:00) on the day in question.\n",
    "\n",
    "We can see from the file that hourly measurements include the following parameters:  \n",
    "- Temperature (C)  \n",
    "- Windspeed (km/h)  \n",
    "- Wind Gust (km/h)  \n",
    "- Wind Direction  \n",
    "- Humidity (%) \n",
    "- Rainfall (mm)  \n",
    "- Pressure (mbar)  \n",
    "\n",
    "For more information, see https://data.gov.ie/dataset/todays-weather-claremorris."
   ]
  },
  {
   "cell_type": "markdown",
   "metadata": {
    "vscode": {
     "languageId": "plaintext"
    }
   },
   "source": [
    "## End  \n",
    "\n",
    "\n"
   ]
  },
  {
   "cell_type": "markdown",
   "metadata": {},
   "source": []
  }
 ],
 "metadata": {
  "kernelspec": {
   "display_name": "Python 3",
   "language": "python",
   "name": "python3"
  },
  "language_info": {
   "codemirror_mode": {
    "name": "ipython",
    "version": 3
   },
   "file_extension": ".py",
   "mimetype": "text/x-python",
   "name": "python",
   "nbconvert_exporter": "python",
   "pygments_lexer": "ipython3",
   "version": "3.12.1"
  }
 },
 "nbformat": 4,
 "nbformat_minor": 2
}
