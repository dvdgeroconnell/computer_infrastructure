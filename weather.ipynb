{
 "cells": [
  {
   "cell_type": "markdown",
   "metadata": {},
   "source": [
    "# Weather\n",
    "\n",
    "\n",
    "<!-- Use left, center or right. Font size doesn't seem to change.-->\n",
    "<p>\n",
    "<div style=\"text-align: center;\">\n",
    "    <img src=\"img/palmerpenguins.png\" width=\"10%\">\n",
    "</div>\n",
    "<div style=\"text-align: center\" font = 7> Picture copyright cccc </div>  \n",
    "</p>  \n",
    "\n",
    "****"
   ]
  },
  {
   "cell_type": "markdown",
   "metadata": {},
   "source": [
    "| Topic | Details |\n",
    "|---------|-------------|\n",
    "| **Module:**  | 8645 - Conputer Infrastructure  |\n",
    "| **Lecturer:**  | Ian McLoughlin  | \n",
    "| **Course:**  | Higher Diploma in Science in Computing (Data Analytics)  |\n",
    "| **Year/Semester:**  | Year 1 / Semester 2  |\n",
    "| **Author:**  | David O'Connell  |\n",
    "| **Student ID:**  | G00438912  |\n",
    "| **Student Email:**  | G00438912@atu.ie  |  \n",
    "   \n",
    "****"
   ]
  },
  {
   "cell_type": "markdown",
   "metadata": {},
   "source": []
  }
 ],
 "metadata": {
  "language_info": {
   "name": "python"
  }
 },
 "nbformat": 4,
 "nbformat_minor": 2
}
