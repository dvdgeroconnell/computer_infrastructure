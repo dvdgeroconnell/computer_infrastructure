{
 "cells": [
  {
   "cell_type": "markdown",
   "metadata": {},
   "source": [
    "# Weather Analysis\n",
    "\n",
    "\n",
    "<!-- Use left, center or right. Font size doesn't seem to change.-->\n",
    "<p>\n",
    "<div style=\"text-align: center;\">\n",
    "    <img src=\"img/palmerpenguins.png\" width=\"10%\">\n",
    "</div>\n",
    "<div style=\"text-align: center\" font = 7> Picture copyright cccc </div>  \n",
    "</p>  \n",
    "\n",
    "****"
   ]
  },
  {
   "cell_type": "markdown",
   "metadata": {},
   "source": [
    "| Topic | Details |\n",
    "|---------|-------------|\n",
    "| **Module:**  | 8645 - Computer Infrastructure  |\n",
    "| **Lecturer:**  | Ian McLoughlin  | \n",
    "| **Course:**  | Higher Diploma in Science in Computing (Data Analytics)  |\n",
    "| **Year/Semester:**  | Year 1 / Semester 2  |\n",
    "| **Author:**  | David O'Connell  |\n",
    "| **Student ID:**  | G00438912  |\n",
    "| **Student Email:**  | G00438912@atu.ie  |  \n",
    "   \n",
    "****"
   ]
  },
  {
   "cell_type": "code",
   "execution_count": 2,
   "metadata": {},
   "outputs": [],
   "source": [
    "# Data frames\n",
    "import pandas as pd"
   ]
  },
  {
   "cell_type": "markdown",
   "metadata": {},
   "source": [
    "## Collecting the Data  \n",
    "\n",
    "The following code outputs the filename used to store the data file.  \n",
    "```bash  \n",
    "date +\"%Y%m%d_%H%M%S_athenry.json  \n",
    "```  \n",
    "The `%Y` is replaced by the four-digit year (e.g.2024).  "
   ]
  },
  {
   "cell_type": "markdown",
   "metadata": {},
   "source": [
    "## Analysing the Data"
   ]
  },
  {
   "cell_type": "code",
   "execution_count": 2,
   "metadata": {},
   "outputs": [],
   "source": [
    "# Read the data\n",
    "df = pd.read_json('data/weather/20241108_215150_claremorris.json')\n"
   ]
  },
  {
   "cell_type": "code",
   "execution_count": 3,
   "metadata": {},
   "outputs": [
    {
     "data": {
      "text/html": [
       "<div>\n",
       "<style scoped>\n",
       "    .dataframe tbody tr th:only-of-type {\n",
       "        vertical-align: middle;\n",
       "    }\n",
       "\n",
       "    .dataframe tbody tr th {\n",
       "        vertical-align: top;\n",
       "    }\n",
       "\n",
       "    .dataframe thead th {\n",
       "        text-align: right;\n",
       "    }\n",
       "</style>\n",
       "<table border=\"1\" class=\"dataframe\">\n",
       "  <thead>\n",
       "    <tr style=\"text-align: right;\">\n",
       "      <th></th>\n",
       "      <th>name</th>\n",
       "      <th>temperature</th>\n",
       "      <th>symbol</th>\n",
       "      <th>weatherDescription</th>\n",
       "      <th>text</th>\n",
       "      <th>windSpeed</th>\n",
       "      <th>windGust</th>\n",
       "      <th>cardinalWindDirection</th>\n",
       "      <th>windDirection</th>\n",
       "      <th>humidity</th>\n",
       "      <th>rainfall</th>\n",
       "      <th>pressure</th>\n",
       "      <th>dayName</th>\n",
       "      <th>date</th>\n",
       "      <th>reportTime</th>\n",
       "    </tr>\n",
       "  </thead>\n",
       "  <tbody>\n",
       "    <tr>\n",
       "      <th>0</th>\n",
       "      <td>Claremorris</td>\n",
       "      <td>13</td>\n",
       "      <td></td>\n",
       "      <td>N/A</td>\n",
       "      <td></td>\n",
       "      <td>17</td>\n",
       "      <td>-</td>\n",
       "      <td>SE</td>\n",
       "      <td>135</td>\n",
       "      <td>88</td>\n",
       "      <td>0</td>\n",
       "      <td>1022</td>\n",
       "      <td>Friday</td>\n",
       "      <td>2024-08-11</td>\n",
       "      <td>00:00</td>\n",
       "    </tr>\n",
       "    <tr>\n",
       "      <th>1</th>\n",
       "      <td>Claremorris</td>\n",
       "      <td>12</td>\n",
       "      <td></td>\n",
       "      <td>N/A</td>\n",
       "      <td></td>\n",
       "      <td>19</td>\n",
       "      <td>-</td>\n",
       "      <td>SE</td>\n",
       "      <td>135</td>\n",
       "      <td>89</td>\n",
       "      <td>0</td>\n",
       "      <td>1021</td>\n",
       "      <td>Friday</td>\n",
       "      <td>2024-08-11</td>\n",
       "      <td>01:00</td>\n",
       "    </tr>\n",
       "    <tr>\n",
       "      <th>2</th>\n",
       "      <td>Claremorris</td>\n",
       "      <td>12</td>\n",
       "      <td></td>\n",
       "      <td>N/A</td>\n",
       "      <td></td>\n",
       "      <td>17</td>\n",
       "      <td>-</td>\n",
       "      <td>SE</td>\n",
       "      <td>135</td>\n",
       "      <td>89</td>\n",
       "      <td>0</td>\n",
       "      <td>1021</td>\n",
       "      <td>Friday</td>\n",
       "      <td>2024-08-11</td>\n",
       "      <td>02:00</td>\n",
       "    </tr>\n",
       "    <tr>\n",
       "      <th>3</th>\n",
       "      <td>Claremorris</td>\n",
       "      <td>12</td>\n",
       "      <td></td>\n",
       "      <td>N/A</td>\n",
       "      <td></td>\n",
       "      <td>19</td>\n",
       "      <td>-</td>\n",
       "      <td>SE</td>\n",
       "      <td>135</td>\n",
       "      <td>89</td>\n",
       "      <td>0</td>\n",
       "      <td>1021</td>\n",
       "      <td>Friday</td>\n",
       "      <td>2024-08-11</td>\n",
       "      <td>03:00</td>\n",
       "    </tr>\n",
       "    <tr>\n",
       "      <th>4</th>\n",
       "      <td>Claremorris</td>\n",
       "      <td>12</td>\n",
       "      <td></td>\n",
       "      <td>N/A</td>\n",
       "      <td></td>\n",
       "      <td>19</td>\n",
       "      <td>-</td>\n",
       "      <td>SE</td>\n",
       "      <td>135</td>\n",
       "      <td>87</td>\n",
       "      <td>0</td>\n",
       "      <td>1021</td>\n",
       "      <td>Friday</td>\n",
       "      <td>2024-08-11</td>\n",
       "      <td>04:00</td>\n",
       "    </tr>\n",
       "  </tbody>\n",
       "</table>\n",
       "</div>"
      ],
      "text/plain": [
       "          name  temperature symbol weatherDescription text  windSpeed  \\\n",
       "0  Claremorris           13                       N/A              17   \n",
       "1  Claremorris           12                       N/A              19   \n",
       "2  Claremorris           12                       N/A              17   \n",
       "3  Claremorris           12                       N/A              19   \n",
       "4  Claremorris           12                       N/A              19   \n",
       "\n",
       "  windGust cardinalWindDirection  windDirection  humidity  rainfall  pressure  \\\n",
       "0        -                    SE            135        88         0      1022   \n",
       "1        -                    SE            135        89         0      1021   \n",
       "2        -                    SE            135        89         0      1021   \n",
       "3        -                    SE            135        89         0      1021   \n",
       "4        -                    SE            135        87         0      1021   \n",
       "\n",
       "  dayName       date reportTime  \n",
       "0  Friday 2024-08-11      00:00  \n",
       "1  Friday 2024-08-11      01:00  \n",
       "2  Friday 2024-08-11      02:00  \n",
       "3  Friday 2024-08-11      03:00  \n",
       "4  Friday 2024-08-11      04:00  "
      ]
     },
     "execution_count": 3,
     "metadata": {},
     "output_type": "execute_result"
    }
   ],
   "source": [
    "# Show the data\n",
    "df.head(5)"
   ]
  },
  {
   "cell_type": "markdown",
   "metadata": {
    "vscode": {
     "languageId": "plaintext"
    }
   },
   "source": [
    "## End  \n",
    "\n",
    "\n"
   ]
  },
  {
   "cell_type": "markdown",
   "metadata": {},
   "source": []
  }
 ],
 "metadata": {
  "kernelspec": {
   "display_name": "Python 3",
   "language": "python",
   "name": "python3"
  },
  "language_info": {
   "codemirror_mode": {
    "name": "ipython",
    "version": 3
   },
   "file_extension": ".py",
   "mimetype": "text/x-python",
   "name": "python",
   "nbconvert_exporter": "python",
   "pygments_lexer": "ipython3",
   "version": "3.12.1"
  }
 },
 "nbformat": 4,
 "nbformat_minor": 2
}
