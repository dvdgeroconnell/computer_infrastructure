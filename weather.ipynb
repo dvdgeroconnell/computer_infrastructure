{
 "cells": [
  {
   "cell_type": "markdown",
   "metadata": {},
   "source": [
    "# Weather Analysis\n",
    "\n",
    "****"
   ]
  },
  {
   "cell_type": "markdown",
   "metadata": {},
   "source": [
    "## Purpose of this Document  \n",
    "This is the GitHub repository for the tasks and project associated with the Computer Infrastructure module.   \n",
    "Link to repository - [PFDA Assignments](https://github.com/dvdgeroconnell/PFDA-assignments.git). "
   ]
  },
  {
   "cell_type": "markdown",
   "metadata": {},
   "source": [
    "| Topic | Details |\n",
    "|---------|-------------|\n",
    "| **Module:**  | 8645 - Computer Infrastructure  |\n",
    "| **Lecturer:**  | Ian McLoughlin  | \n",
    "| **Course:**  | Higher Diploma in Science in Computing (Data Analytics)  |\n",
    "| **Year/Semester:**  | Year 1 / Semester 2  |\n",
    "| **Author:**  | David O'Connell  |\n",
    "| **Student ID:**  | G00438912  |\n",
    "| **Student Email:**  | G00438912@atu.ie  |  \n",
    "   \n",
    "****"
   ]
  },
  {
   "cell_type": "markdown",
   "metadata": {},
   "source": [
    "# Tasks 1 - 8\n",
    "This section details the steps taken to complete tasks 1-7 of the Computer Infrastructure assessment.  \n",
    "The tasks are laid out in the Assessment section of the module README [here](https://github.com/ianmcloughlin/2425_computer_infrastructure).\n",
    "Short descriptions of the commands used in each task and their role in completing the tasks is provided."
   ]
  },
  {
   "cell_type": "markdown",
   "metadata": {},
   "source": [
    "## Task 1\n",
    "### Problem Statement\n",
    "Using the command line, create a directory (that is, a folder) named data at the root of your repository. Inside data, create two subdirectories: timestamps and weather.  \n",
    "\n",
    "### Commands (in Codespace)\n",
    "*Create the* data *directory:*   \n",
    "@dvdgeroconnell ➜ /workspaces/computer_infrastructure (main) **$ mkdir data**   \n",
    "   \n",
    "*Create the* timestamps *subdirectory:*   \n",
    "@dvdgeroconnell ➜ /workspaces/computer_infrastructure (main) **$ mkdir data/timestamps**   \n",
    "  \n",
    "*Create the* weather *subdirectory:*   \n",
    "@dvdgeroconnell ➜ /workspaces/computer_infrastructure (main) $ **mkdir data/weather**     \n",
    "\n",
    "### Notes\n",
    "A *git push* did not result in /data/weather being pushed to Github repo, because it is empty."
   ]
  },
  {
   "cell_type": "markdown",
   "metadata": {},
   "source": [
    "## Task 2\n",
    "### Problem Statement\n",
    "Navigate to the data/timestamps directory. Use the date command to output the current date and time, appending the output to a file named *now.txt*. Make sure to use the >> operator to append (not overwrite) the file. Repeat this step ten times, then use the more command to verify that *now.txt* has the expected content.   \n",
    "\n",
    "### Commands (in Codespace)\n",
    "*Change directory:*  \n",
    "@dvdgeroconnell ➜ /workspaces/computer_infrastructure (main) $ **cd data/timestamps**  \n",
    "\n",
    "*To run once:*  \n",
    "@dvdgeroconnell ➜ /workspaces/computer_infrastructure/data/timestamps (main) $ **date >> now.txt**  \n",
    "\n",
    "*To run 10 times:*  \n",
    "@dvdgeroconnell ➜ /workspaces/computer_infrastructure/data/timestamps (main) $ **for i in {1..10}**  \n",
    "    **> do**  \n",
    "    **> date >> now.txt**  \n",
    "    **> done**  "
   ]
  },
  {
   "cell_type": "markdown",
   "metadata": {},
   "source": [
    "## Task 3\n",
    "### Problem Statement\n",
    "Run the date command again, but this time format the output using YYYYmmdd_HHMMSS (for example, 20261114_130003 for 1:00:03 PM on November 14, 2026). Refer to the date man page (using man date) for more formatting options. Append the formatted output to a file named *formatted.txt*.  \n",
    "  \n",
    "### Commands (in Codespace)  \n",
    "*List format options for date command*  \n",
    "@dvdgeroconnell ➜ /workspaces/computer_infrastructure/data/timestamps (main) $ **man date**  \n",
    "   \n",
    "*Output date and time as YYYYmmdd_HHMMSS*  \n",
    "@dvdgeroconnell ➜ /workspaces/computer_infrastructure/data/timestamps (main) $ **date +%Y%m%d_%H%M%S**  \n",
    "Output: 20241017_192135  \n",
    "  \n",
    "*Output date and time as YYYYmmdd_HHMMSS to formatted.txt*  \n",
    "@dvdgeroconnell ➜ /workspaces/computer_infrastructure/data/timestamps (main) $ **date +%Y%m%d_%H%M%S >> formatted.txt**  \n",
    "  \n",
    "### Notes  \n",
    "The *'>> filename'* part of the command appends to an existing file or creates a new one if it doesn't already exist. Using *'>'* instead of *'>>'* appends to an existing file instead of replacing.  "
   ]
  },
  {
   "cell_type": "markdown",
   "metadata": {},
   "source": [
    "## Task 4  \n",
    "### Problem Statement  \n",
    "Use the touch command to create an empty file with a name in the *YYYYmmdd_HHMMSS.txt* format, by embedding the date command in backticks ` into the touch command.  \n",
    "Redirection (>>) should no longer be used in this step.  \n",
    "  \n",
    "### Commands (in Codespace)  \n",
    "*Create an empty file with the name in the YYYYmmdd_HHMMSS.txt format*  \n",
    "@dvdgeroconnell ➜ /workspaces/computer_infrastructure/data/timestamps (main) $ **touch \\`date +\"%Y%m%d_%H%M%S.txt\"\\`**  \n",
    "  \n",
    "### Notes  \n",
    "The backtick is a special character. Everything contained between backticks is executed first, and the output of that execution is used by the main command.  "
   ]
  },
  {
   "cell_type": "markdown",
   "metadata": {},
   "source": [
    "## Task 5  \n",
    "### Problem Statement  \n",
    "Change to the data/weather directory. Download the latest weather data for the Athenry weather station from Met Eireann using wget. Use the -O <filename> option to save the file as *weather.json*. The data can be found at this URL: https://prodapi.metweb.ie/observations/athenry/today.  \n",
    "\n",
    "### Commands (in Codespace)  \n",
    "*Change to the* /weather/data *directory*   \n",
    "@dvdgeroconnell ➜ /workspaces/computer_infrastructure (main) $ **cd data/weather**  \n",
    "  \n",
    "*and download the latest weather data for the Athenry weather station...*  \n",
    "@dvdgeroconnell ➜ /workspaces/computer_infrastructure/data/weather (main) $ **wget -O \"weather.json\" https://prodapi.metweb.ie/observations/athenry/today**    \n",
    "  \n",
    "### Notes  \n",
    "The *'-O'* option writes the retrieved content to the provided filename (in double quotes).  \n",
    "This command creates a file called 'today'. If it's run again, the next file will be called 'today.1' and so on.  "
   ]
  },
  {
   "cell_type": "markdown",
   "metadata": {},
   "source": [
    "## Task 6  \n",
    "### Problem Statement  \n",
    "Modify the command from Task 5 to save the downloaded file with a timestamped name in the format *YYYYmmdd_HHMMSS.json*.  \n",
    "  \n",
    "### Commands (in Codespace)  \n",
    "*Save the downloaded file with a timestamped name in the format* YYYYmmdd_HHMMSS.json.  \n",
    "@dvdgeroconnell ➜ /workspaces/computer_infrastructure/data/weather (main) $ **wget -O \\`date +\"%Y%m%d_%H%M%S.json\"\\` https://prodapi.metweb.ie/observations/athenry/today**  \n",
    "  \n",
    "### Notes\n",
    "The *'date'* command prints out the system date and time in the specified format. In this case, it is passed to the *'wget -O'* command as the filename.  "
   ]
  },
  {
   "cell_type": "markdown",
   "metadata": {},
   "source": [
    "## Task 7\n",
    "### Problem Statement  \n",
    "Write a bash script called *weather.sh* in the root of the repository. This script should automate the process from Task 6, saving the weather data to the *data/weather* directory.\n",
    "\n",
    "*Write a bash script called* weather.sh.  \n",
    "@dvdgeroconnell ➜ /workspaces/computer_infrastructure (main) $ **more weather.sh**  \n",
    "\n",
    "*Make the script executable...*  \n",
    "@dvdgeroconnell ➜ /workspaces/computer_infrastructure (main) $ **chmod u+x weather.sh**  \n",
    "  \n",
    "*Check it is executable*  \n",
    "@dvdgeroconnell ➜ /workspaces/computer_infrastructure (main) $ **ls -l weather.sh**  \n",
    "-rwxrw-rw- 1 codespace codespace 467 Nov 20 17:23 weather.sh   \n",
    "\n",
    "*... and run it. Note that the weather station is provided as a command line argument.*   \n",
    "  @dvdgeroconnell ➜ /workspaces/computer_infrastructure (main) $ **./weather.sh Athenry**  \n",
    "  *Weather station names with a white space are also supported...*\n",
    "  @dvdgeroconnell ➜ /workspaces/computer_infrastructure (main) $ **./weather.sh 'Sherkin Island'**  \n",
    "\n",
    "### Notes  \n",
    "The script downloads a file from the Irish Meteorological Service for the weather station provided as a command line argument for the date that the script is run. The file is named with the weather station and date of download.  \n",
    "The weather station may be any of those listed by Met Éireann [here](https://www.met.ie/climate/weather-observing-stations). The script was extended with the help of ChatGPT to support station names with white spaces, e.g. Sherkin Island. The white space is replaced with '_' in the file name.\n",
    "To run the script, type **./ weather.sh \\<weather station\\>**.  \n",
    "Surround any station name containing a white space with single quotes, for example **./weather.sh 'Sherkin Island'**.  \n"
   ]
  },
  {
   "cell_type": "markdown",
   "metadata": {},
   "source": [
    "## Task 8\n",
    "### Problem Statement  \n",
    "Create a notebook called weather.ipynb at the root of the repository. In this notebook, write a brief report explaining how Tasks 1 to 7 were completed. Provide short descriptions of the commands used in each task and explain their role in completing the tasks.  \n",
    "\n",
    "### Solution\n",
    "See Task 1 - Task 7 above."
   ]
  },
  {
   "cell_type": "markdown",
   "metadata": {},
   "source": [
    "# Task 9 - Analysing the Data\n",
    "### Problem Statement\n",
    "In your weather.ipynb notebook, use the pandas function read_json() to load in any one of the weather data files you have downloaded with your script. Examine and summarize the data. Use the information provided at [data.gov.ie](https://data.gov.ie/dataset/todays-weather-athenry) to write a short explanation of what the data set contains."
   ]
  },
  {
   "cell_type": "markdown",
   "metadata": {},
   "source": [
    "### Read in the Data\n",
    "First, import the required modules. Then read in the data from one of the downloaded files.\n",
    "We will use *20241204_231928_athenry.json*, as it has the full 24 hourly entries."
   ]
  },
  {
   "cell_type": "code",
   "execution_count": 1,
   "metadata": {},
   "outputs": [],
   "source": [
    "# Data frames\n",
    "import pandas as pd\n",
    "import matplotlib.pyplot as plt\n",
    "import seaborn as sns"
   ]
  },
  {
   "cell_type": "code",
   "execution_count": 2,
   "metadata": {},
   "outputs": [
    {
     "data": {
      "text/plain": [
       "(24, 15)"
      ]
     },
     "execution_count": 2,
     "metadata": {},
     "output_type": "execute_result"
    }
   ],
   "source": [
    "# Read the data and show the first few rows\n",
    "station_data = pd.read_json('data/weather/20241204_231928_athenry.json')\n",
    "station_data.shape\n"
   ]
  },
  {
   "cell_type": "markdown",
   "metadata": {},
   "source": [
    "### Examine the Data"
   ]
  },
  {
   "cell_type": "code",
   "execution_count": 3,
   "metadata": {},
   "outputs": [
    {
     "data": {
      "text/html": [
       "<div>\n",
       "<style scoped>\n",
       "    .dataframe tbody tr th:only-of-type {\n",
       "        vertical-align: middle;\n",
       "    }\n",
       "\n",
       "    .dataframe tbody tr th {\n",
       "        vertical-align: top;\n",
       "    }\n",
       "\n",
       "    .dataframe thead th {\n",
       "        text-align: right;\n",
       "    }\n",
       "</style>\n",
       "<table border=\"1\" class=\"dataframe\">\n",
       "  <thead>\n",
       "    <tr style=\"text-align: right;\">\n",
       "      <th></th>\n",
       "      <th>name</th>\n",
       "      <th>temperature</th>\n",
       "      <th>symbol</th>\n",
       "      <th>weatherDescription</th>\n",
       "      <th>text</th>\n",
       "      <th>windSpeed</th>\n",
       "      <th>windGust</th>\n",
       "      <th>cardinalWindDirection</th>\n",
       "      <th>windDirection</th>\n",
       "      <th>humidity</th>\n",
       "      <th>rainfall</th>\n",
       "      <th>pressure</th>\n",
       "      <th>dayName</th>\n",
       "      <th>date</th>\n",
       "      <th>reportTime</th>\n",
       "    </tr>\n",
       "  </thead>\n",
       "  <tbody>\n",
       "    <tr>\n",
       "      <th>0</th>\n",
       "      <td>Athenry</td>\n",
       "      <td>2</td>\n",
       "      <td>15n</td>\n",
       "      <td>Fog / Mist</td>\n",
       "      <td>\"Fog thinning\"</td>\n",
       "      <td>2</td>\n",
       "      <td>-</td>\n",
       "      <td>S</td>\n",
       "      <td>180</td>\n",
       "      <td>98</td>\n",
       "      <td>0.0</td>\n",
       "      <td>1024</td>\n",
       "      <td>Wednesday</td>\n",
       "      <td>2024-04-12</td>\n",
       "      <td>00:00</td>\n",
       "    </tr>\n",
       "    <tr>\n",
       "      <th>1</th>\n",
       "      <td>Athenry</td>\n",
       "      <td>2</td>\n",
       "      <td>15n</td>\n",
       "      <td>Fog / Mist</td>\n",
       "      <td>\"Fog thickening\"</td>\n",
       "      <td>-</td>\n",
       "      <td>-</td>\n",
       "      <td></td>\n",
       "      <td>0</td>\n",
       "      <td>99</td>\n",
       "      <td>0.0</td>\n",
       "      <td>1024</td>\n",
       "      <td>Wednesday</td>\n",
       "      <td>2024-04-12</td>\n",
       "      <td>01:00</td>\n",
       "    </tr>\n",
       "    <tr>\n",
       "      <th>2</th>\n",
       "      <td>Athenry</td>\n",
       "      <td>2</td>\n",
       "      <td>15n</td>\n",
       "      <td>Fog / Mist</td>\n",
       "      <td>\"Fog\"</td>\n",
       "      <td>4</td>\n",
       "      <td>-</td>\n",
       "      <td>E</td>\n",
       "      <td>90</td>\n",
       "      <td>99</td>\n",
       "      <td>0.0</td>\n",
       "      <td>1023</td>\n",
       "      <td>Wednesday</td>\n",
       "      <td>2024-04-12</td>\n",
       "      <td>02:00</td>\n",
       "    </tr>\n",
       "  </tbody>\n",
       "</table>\n",
       "</div>"
      ],
      "text/plain": [
       "      name  temperature symbol weatherDescription              text windSpeed  \\\n",
       "0  Athenry            2    15n         Fog / Mist    \"Fog thinning\"         2   \n",
       "1  Athenry            2    15n         Fog / Mist  \"Fog thickening\"         -   \n",
       "2  Athenry            2    15n         Fog / Mist             \"Fog\"         4   \n",
       "\n",
       "  windGust cardinalWindDirection  windDirection  humidity  rainfall  pressure  \\\n",
       "0        -                     S            180        98       0.0      1024   \n",
       "1        -                                    0        99       0.0      1024   \n",
       "2        -                     E             90        99       0.0      1023   \n",
       "\n",
       "     dayName       date reportTime  \n",
       "0  Wednesday 2024-04-12      00:00  \n",
       "1  Wednesday 2024-04-12      01:00  \n",
       "2  Wednesday 2024-04-12      02:00  "
      ]
     },
     "execution_count": 3,
     "metadata": {},
     "output_type": "execute_result"
    }
   ],
   "source": [
    "# Display the first few fields.\n",
    "station_data.head(3)"
   ]
  },
  {
   "cell_type": "code",
   "execution_count": 4,
   "metadata": {},
   "outputs": [
    {
     "data": {
      "text/plain": [
       "name                             object\n",
       "temperature                       int64\n",
       "symbol                           object\n",
       "weatherDescription               object\n",
       "text                             object\n",
       "windSpeed                        object\n",
       "windGust                         object\n",
       "cardinalWindDirection            object\n",
       "windDirection                     int64\n",
       "humidity                          int64\n",
       "rainfall                        float64\n",
       "pressure                          int64\n",
       "dayName                          object\n",
       "date                     datetime64[ns]\n",
       "reportTime                       object\n",
       "dtype: object"
      ]
     },
     "execution_count": 4,
     "metadata": {},
     "output_type": "execute_result"
    }
   ],
   "source": [
    "# Check the data types\n",
    "station_data.dtypes"
   ]
  },
  {
   "cell_type": "code",
   "execution_count": 5,
   "metadata": {},
   "outputs": [
    {
     "data": {
      "text/html": [
       "<div>\n",
       "<style scoped>\n",
       "    .dataframe tbody tr th:only-of-type {\n",
       "        vertical-align: middle;\n",
       "    }\n",
       "\n",
       "    .dataframe tbody tr th {\n",
       "        vertical-align: top;\n",
       "    }\n",
       "\n",
       "    .dataframe thead th {\n",
       "        text-align: right;\n",
       "    }\n",
       "</style>\n",
       "<table border=\"1\" class=\"dataframe\">\n",
       "  <thead>\n",
       "    <tr style=\"text-align: right;\">\n",
       "      <th></th>\n",
       "      <th>windSpeed</th>\n",
       "      <th>windGust</th>\n",
       "    </tr>\n",
       "  </thead>\n",
       "  <tbody>\n",
       "    <tr>\n",
       "      <th>0</th>\n",
       "      <td>2.0</td>\n",
       "      <td>NaN</td>\n",
       "    </tr>\n",
       "    <tr>\n",
       "      <th>1</th>\n",
       "      <td>NaN</td>\n",
       "      <td>NaN</td>\n",
       "    </tr>\n",
       "    <tr>\n",
       "      <th>2</th>\n",
       "      <td>4.0</td>\n",
       "      <td>NaN</td>\n",
       "    </tr>\n",
       "    <tr>\n",
       "      <th>3</th>\n",
       "      <td>6.0</td>\n",
       "      <td>NaN</td>\n",
       "    </tr>\n",
       "    <tr>\n",
       "      <th>4</th>\n",
       "      <td>4.0</td>\n",
       "      <td>NaN</td>\n",
       "    </tr>\n",
       "    <tr>\n",
       "      <th>5</th>\n",
       "      <td>NaN</td>\n",
       "      <td>NaN</td>\n",
       "    </tr>\n",
       "    <tr>\n",
       "      <th>6</th>\n",
       "      <td>4.0</td>\n",
       "      <td>NaN</td>\n",
       "    </tr>\n",
       "    <tr>\n",
       "      <th>7</th>\n",
       "      <td>7.0</td>\n",
       "      <td>NaN</td>\n",
       "    </tr>\n",
       "    <tr>\n",
       "      <th>8</th>\n",
       "      <td>7.0</td>\n",
       "      <td>NaN</td>\n",
       "    </tr>\n",
       "    <tr>\n",
       "      <th>9</th>\n",
       "      <td>17.0</td>\n",
       "      <td>NaN</td>\n",
       "    </tr>\n",
       "    <tr>\n",
       "      <th>10</th>\n",
       "      <td>15.0</td>\n",
       "      <td>NaN</td>\n",
       "    </tr>\n",
       "    <tr>\n",
       "      <th>11</th>\n",
       "      <td>19.0</td>\n",
       "      <td>NaN</td>\n",
       "    </tr>\n",
       "    <tr>\n",
       "      <th>12</th>\n",
       "      <td>22.0</td>\n",
       "      <td>NaN</td>\n",
       "    </tr>\n",
       "    <tr>\n",
       "      <th>13</th>\n",
       "      <td>17.0</td>\n",
       "      <td>NaN</td>\n",
       "    </tr>\n",
       "    <tr>\n",
       "      <th>14</th>\n",
       "      <td>26.0</td>\n",
       "      <td>54.0</td>\n",
       "    </tr>\n",
       "    <tr>\n",
       "      <th>15</th>\n",
       "      <td>28.0</td>\n",
       "      <td>50.0</td>\n",
       "    </tr>\n",
       "    <tr>\n",
       "      <th>16</th>\n",
       "      <td>22.0</td>\n",
       "      <td>48.0</td>\n",
       "    </tr>\n",
       "    <tr>\n",
       "      <th>17</th>\n",
       "      <td>20.0</td>\n",
       "      <td>NaN</td>\n",
       "    </tr>\n",
       "    <tr>\n",
       "      <th>18</th>\n",
       "      <td>20.0</td>\n",
       "      <td>41.0</td>\n",
       "    </tr>\n",
       "    <tr>\n",
       "      <th>19</th>\n",
       "      <td>17.0</td>\n",
       "      <td>NaN</td>\n",
       "    </tr>\n",
       "    <tr>\n",
       "      <th>20</th>\n",
       "      <td>26.0</td>\n",
       "      <td>46.0</td>\n",
       "    </tr>\n",
       "    <tr>\n",
       "      <th>21</th>\n",
       "      <td>26.0</td>\n",
       "      <td>NaN</td>\n",
       "    </tr>\n",
       "    <tr>\n",
       "      <th>22</th>\n",
       "      <td>13.0</td>\n",
       "      <td>44.0</td>\n",
       "    </tr>\n",
       "    <tr>\n",
       "      <th>23</th>\n",
       "      <td>7.0</td>\n",
       "      <td>NaN</td>\n",
       "    </tr>\n",
       "  </tbody>\n",
       "</table>\n",
       "</div>"
      ],
      "text/plain": [
       "    windSpeed  windGust\n",
       "0         2.0       NaN\n",
       "1         NaN       NaN\n",
       "2         4.0       NaN\n",
       "3         6.0       NaN\n",
       "4         4.0       NaN\n",
       "5         NaN       NaN\n",
       "6         4.0       NaN\n",
       "7         7.0       NaN\n",
       "8         7.0       NaN\n",
       "9        17.0       NaN\n",
       "10       15.0       NaN\n",
       "11       19.0       NaN\n",
       "12       22.0       NaN\n",
       "13       17.0       NaN\n",
       "14       26.0      54.0\n",
       "15       28.0      50.0\n",
       "16       22.0      48.0\n",
       "17       20.0       NaN\n",
       "18       20.0      41.0\n",
       "19       17.0       NaN\n",
       "20       26.0      46.0\n",
       "21       26.0       NaN\n",
       "22       13.0      44.0\n",
       "23        7.0       NaN"
      ]
     },
     "metadata": {},
     "output_type": "display_data"
    }
   ],
   "source": [
    "# Need to convert windSpeed and windGust to numeric as they are string type with some invalid entries (\"-\")\n",
    "\n",
    "station_data['windSpeed'] = pd.to_numeric(station_data['windSpeed'], errors='coerce')\n",
    "station_data['windGust'] = pd.to_numeric(station_data['windGust'], errors='coerce')\n",
    "display(station_data[['windSpeed','windGust']])\n"
   ]
  },
  {
   "cell_type": "markdown",
   "metadata": {},
   "source": [
    "### Summarize the Data"
   ]
  },
  {
   "cell_type": "code",
   "execution_count": 6,
   "metadata": {},
   "outputs": [
    {
     "name": "stdout",
     "output_type": "stream",
     "text": [
      "Station: Athenry \n",
      "       temperature  windSpeed   humidity  rainfall     pressure\n",
      "min      1.000000   2.000000  87.000000  0.000000  1005.000000\n",
      "max     13.000000  28.000000  99.000000  1.300000  1024.000000\n",
      "mean     7.583333  14.954545  94.791667  0.126250  1013.708333\n",
      "std      4.558000   8.499172   4.010629  0.303441     7.503502\n"
     ]
    }
   ],
   "source": [
    "# Calculate and display some key statistics on the data fields where it is meaningful to do so.\n",
    "\n",
    "station_stats = station_data.agg({\"temperature\":[\"min\", \"max\", \"mean\", \"std\"],\"windSpeed\":[\"min\", \"max\", \"mean\", \"std\"],\n",
    "                                  \"humidity\":[\"min\", \"max\", \"mean\", \"std\"],\"rainfall\":[\"min\", \"max\", \"mean\", \"std\"],\n",
    "                                  \"pressure\":[\"min\", \"max\", \"mean\", \"std\"]})\n",
    "\n",
    "# Note that the mean, std and other calculations ignore rows where the entry is not a valid number, i.e. NaN,\n",
    "# whereas '0' is included in the calculation.\n",
    "\n",
    "print(\"Station:\", station_data.name[0],\"\\n\",station_stats)"
   ]
  },
  {
   "cell_type": "code",
   "execution_count": 7,
   "metadata": {},
   "outputs": [
    {
     "data": {
      "text/plain": [
       "Text(0.5, 0.98, 'Weather Station: Athenry')"
      ]
     },
     "execution_count": 7,
     "metadata": {},
     "output_type": "execute_result"
    },
    {
     "data": {
      "image/png": "[encoded data removed]",
      "text/plain": [
       "<Figure size 1200x1000 with 6 Axes>"
      ]
     },
     "metadata": {},
     "output_type": "display_data"
    }
   ],
   "source": [
    "# Plot the numeric values - rainfall, humidity, temperature, pressure, wind speed, wind gust\n",
    "\n",
    "fig, axes = plt.subplots(nrows=3, ncols=2, figsize=(12,10), sharex='col')\n",
    "axes[0,0].bar(station_data.reportTime,station_data.rainfall, color='red')\n",
    "axes[1,0].bar(station_data.reportTime,station_data.temperature,color='green')\n",
    "axes[2,0].bar(station_data.reportTime,station_data.windSpeed,color='orange')\n",
    "axes[2,0].xaxis.set_major_locator(plt.MaxNLocator(8))\n",
    "\n",
    "axes[0,1].bar(station_data.reportTime,station_data.humidity, color='blue')\n",
    "axes[1,1].bar(station_data.reportTime,station_data.pressure,color='gray')\n",
    "axes[2,1].bar(station_data.reportTime,station_data.windGust,color='teal')\n",
    "axes[2,1].xaxis.set_major_locator(plt.MaxNLocator(8))\n",
    "\n",
    "axes[0,0].set_title('Rainfall', fontsize=12)\n",
    "axes[0,1].set_title('Humidity', fontsize=12)\n",
    "axes[1,0].set_title('Temperature', fontsize=12)\n",
    "axes[1,1].set_title('Pressure', fontsize=12)\n",
    "axes[2,0].set_title('Wind Speed', fontsize=12)\n",
    "axes[2,1].set_title('Wind Gust', fontsize=12)\n",
    "\n",
    "axes[0,0].set_ylabel('rainfall (mm/h)', fontsize=10)\n",
    "axes[0,1].set_ylabel('humdity (%)', fontsize=10)\n",
    "axes[1,0].set_ylabel('temperature (Celsius)', fontsize=10)\n",
    "axes[1,1].set_ylabel('pressure (hPa)', fontsize=10)\n",
    "axes[2,0].set_ylabel('wind speed (km/h)', fontsize=10)\n",
    "axes[2,1].set_ylabel('wind gust (km/h)', fontsize=10)\n",
    "\n",
    "fig.suptitle(f\"Weather Station: {station_data.name[0]}\",fontsize=14)"
   ]
  },
  {
   "cell_type": "markdown",
   "metadata": {},
   "source": [
    "Use the *weatherDescription* column to visualise the types of weather experienced on the selected day."
   ]
  },
  {
   "cell_type": "code",
   "execution_count": 8,
   "metadata": {},
   "outputs": [
    {
     "data": {
      "text/plain": [
       "<matplotlib.legend.Legend at 0x7e4dc1a800e0>"
      ]
     },
     "execution_count": 8,
     "metadata": {},
     "output_type": "execute_result"
    },
    {
     "data": {
      "image/png": "[encoded data removed]",
      "text/plain": [
       "<Figure size 640x480 with 1 Axes>"
      ]
     },
     "metadata": {},
     "output_type": "display_data"
    }
   ],
   "source": [
    "# Create a new dataframe with the counts of the various types of weather experienced across the day, as represented in the\n",
    "# 'weatherDescription' field in the downloaded data.\n",
    "weather_dict = station_data['weatherDescription'].value_counts().to_dict()\n",
    "weather_type = pd.DataFrame.from_dict(weather_dict, orient='index')\n",
    "weather_type = weather_type.reset_index().rename(columns={\"index\":\"type\"})\n",
    "weather_type.rename(columns={0:'count'}, inplace=True)\n",
    "weather_type['count'].plot.pie(ylabel='',labels=None,title=f\"Type of Weather: {station_data.name[0]}\", autopct='%1.1f%%')\n",
    "\n",
    "plt.legend(bbox_to_anchor=(1, 0.6), loc='upper left',labels=weather_type['type'])"
   ]
  },
  {
   "cell_type": "markdown",
   "metadata": {},
   "source": [
    "### Summary\n",
    "From https://data.gov.ie/dataset/todays-weather-athenry:  \n",
    "  \n",
    "This JSON data contains a list of weather related observations for each hour of the day at the specified weather station.  \n",
    "In this case, the data was taken from Athenry on the 4th of December and covers midnight through 11pm (00:00 - 23:00) on the day in question.\n",
    "\n",
    "We can see from the file that hourly measurements include the following parameters:  \n",
    "- Temperature (C)  \n",
    "- Windspeed (km/h)  \n",
    "- Wind Gust (km/h)  \n",
    "- Wind Direction  \n",
    "- Humidity (%) \n",
    "- Rainfall (mm)  \n",
    "- Pressure (mbar)  \n",
    "\n",
    "The *weatherDescription* field has a text description of the type of weather - this field has been plotted in a pie chart for a visual representation of the day's weather. As we can see, it wasn't great (*quelle surprise*), with 46% of the day foggy/misty, 29% light rain, 17% showery and the remaining 8% cloudy. "
   ]
  },
  {
   "cell_type": "markdown",
   "metadata": {
    "vscode": {
     "languageId": "plaintext"
    }
   },
   "source": [
    "## End  \n",
    "\n",
    "\n"
   ]
  },
  {
   "cell_type": "markdown",
   "metadata": {},
   "source": []
  }
 ],
 "metadata": {
  "kernelspec": {
   "display_name": "Python 3",
   "language": "python",
   "name": "python3"
  },
  "language_info": {
   "codemirror_mode": {
    "name": "ipython",
    "version": 3
   },
   "file_extension": ".py",
   "mimetype": "text/x-python",
   "name": "python",
   "nbconvert_exporter": "python",
   "pygments_lexer": "ipython3",
   "version": "3.12.1"
  }
 },
 "nbformat": 4,
 "nbformat_minor": 2
}
